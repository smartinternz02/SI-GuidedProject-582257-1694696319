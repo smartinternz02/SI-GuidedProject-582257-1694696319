{
  "nbformat": 4,
  "nbformat_minor": 0,
  "metadata": {
    "colab": {
      "provenance": [],
      "toc_visible": true
    },
    "kernelspec": {
      "name": "python3",
      "display_name": "Python 3"
    },
    "language_info": {
      "name": "python"
    }
  },
  "cells": [
    {
      "cell_type": "code",
      "execution_count": 16,
      "metadata": {
        "colab": {
          "base_uri": "https://localhost:8080/"
        },
        "id": "-7kW0wmXezze",
        "outputId": "629fbf69-b956-4995-df1e-638ad44295a1"
      },
      "outputs": [
        {
          "output_type": "stream",
          "name": "stdout",
          "text": [
            "<class 'pandas.core.frame.DataFrame'>\n",
            "RangeIndex: 10 entries, 0 to 9\n",
            "Data columns (total 5 columns):\n",
            " #   Column      Non-Null Count  Dtype  \n",
            "---  ------      --------------  -----  \n",
            " 0   Name        10 non-null     object \n",
            " 1   Age         9 non-null      float64\n",
            " 2   Employment  10 non-null     object \n",
            " 3   Gender      10 non-null     object \n",
            " 4   CITY        9 non-null      object \n",
            "dtypes: float64(1), object(4)\n",
            "memory usage: 528.0+ bytes\n",
            "         Name   Age Employment Gender       CITY\n",
            "0      george  20.0          u      M   New york\n",
            "1       garry  34.0          e      F      delhi\n",
            "2      shivam  35.0          u      M       None\n",
            "3       panda  33.0          u      M    karachi\n",
            "4      python   NaN          u      M   banglore\n",
            "5  bill gates  78.0          e      M    chennai\n",
            "6        elon  89.0          e      M   varanasi\n",
            "7        musk  35.0          e      M   manglore\n",
            "8       gracy  44.0          e      F        goa\n",
            "9       harry  56.0          e      M  singapore\n"
          ]
        },
        {
          "output_type": "execute_result",
          "data": {
            "text/plain": [
              "Name          0\n",
              "Age           1\n",
              "Employment    0\n",
              "Gender        0\n",
              "CITY          1\n",
              "dtype: int64"
            ]
          },
          "metadata": {},
          "execution_count": 16
        }
      ],
      "source": [
        "import pandas as pd\n",
        "## Task 1:-Create a pandas dataframe as df for 10 observation and 5 features\n",
        "data={ 'Name':['george','garry','shivam','panda','python','bill gates','elon','musk','gracy','harry'],\n",
        "      'Age':[20,34,35,33,None,78,89,35,44,56],\n",
        "       'Employment':['u','e','u','u','u','e','e','e','e','e'],\n",
        "       'Gender':['M','F','M','M','M','M','M','M','F','M'],\n",
        "       'CITY':['New york','delhi',None,'karachi','banglore','chennai','varanasi','manglore','goa','singapore']\n",
        "      }\n",
        "df=pd.DataFrame(data)\n",
        "print(df)\n",
        "\n",
        "\n",
        "## Task2:- Check the info of 'df'\n",
        "k=df.info()\n",
        "k\n",
        "\n",
        "\n",
        "##Task 3:- check the descriptive stats of df\n",
        "df.describe()\n",
        "\n",
        "##Task4:- Check the 4th index observation with loc slicing opertator\n",
        "l=df.loc[3]\n",
        "l\n",
        "\n",
        "##Task 5:- Check the null values of each features\n",
        "n=df.isnull().sum()\n",
        "n\n",
        "\n"
      ]
    }
  ]
}